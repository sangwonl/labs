{
 "cells": [
  {
   "cell_type": "code",
   "execution_count": 4,
   "metadata": {},
   "outputs": [
    {
     "name": "stderr",
     "output_type": "stream",
     "text": [
      "Fetching 15 files: 100%|██████████| 15/15 [04:18<00:00, 17.26s/it]\n",
      "Loading pipeline components...: 100%|██████████| 7/7 [00:00<00:00, 14.98it/s]\n",
      "100%|██████████| 50/50 [00:11<00:00,  4.54it/s]\n"
     ]
    },
    {
     "name": "stdout",
     "output_type": "stream",
     "text": [
      "Image saved as generated_image.png\n"
     ]
    }
   ],
   "source": [
    "from diffusers import StableDiffusionPipeline\n",
    "import torch\n",
    "\n",
    "model_id = \"runwayml/stable-diffusion-v1-5\"\n",
    "pipe = StableDiffusionPipeline.from_pretrained(model_id)\n",
    "device = \"cuda\" if torch.cuda.is_available() else \"mps\"\n",
    "pipe = pipe.to(device)\n",
    "\n",
    "prompt = \"A surreal landscape with mountains and rivers\"\n",
    "with torch.autocast(device):\n",
    "    image = pipe(prompt).images[0]\n",
    "\n",
    "image.save(\"generated_image.png\")\n",
    "print(\"Image saved as generated_image.png\")"
   ]
  },
  {
   "cell_type": "code",
   "execution_count": 2,
   "metadata": {},
   "outputs": [],
   "source": [
    "import os\n",
    "import torch\n",
    "import numpy as np\n",
    "from PIL import Image\n",
    "from diffusers import DiffusionPipeline, AutoencoderKL\n",
    "from diffusers import ControlNetModel, StableDiffusionXLControlNetPipeline\n",
    "from insightface.app import FaceAnalysis\n",
    "from huggingface_hub import hf_hub_download\n",
    "import cv2\n",
    "from transformers import CLIPTextModel, CLIPTokenizer\n",
    "from diffusers.models import UNet2DConditionModel\n",
    "from diffusers.schedulers import DPMSolverMultistepScheduler\n",
    "from diffusers.utils import load_image\n",
    "import rembg"
   ]
  },
  {
   "cell_type": "markdown",
   "metadata": {},
   "source": [
    "https://github.com/Gourieff/Assets/tree/main/Insightface"
   ]
  }
 ],
 "metadata": {
  "kernelspec": {
   "display_name": "labs",
   "language": "python",
   "name": "python3"
  },
  "language_info": {
   "codemirror_mode": {
    "name": "ipython",
    "version": 3
   },
   "file_extension": ".py",
   "mimetype": "text/x-python",
   "name": "python",
   "nbconvert_exporter": "python",
   "pygments_lexer": "ipython3",
   "version": "3.10.16"
  }
 },
 "nbformat": 4,
 "nbformat_minor": 2
}
